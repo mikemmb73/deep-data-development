{
 "cells": [
  {
   "cell_type": "code",
   "execution_count": 25,
   "metadata": {
    "collapsed": false,
    "scrolled": true
   },
   "outputs": [
    {
     "name": "stdout",
     "output_type": "stream",
     "text": [
      "predicted:Iris-setosa, actual:Iris-setosa\n",
      "predicted:Iris-setosa, actual:Iris-setosa\n",
      "predicted:Iris-setosa, actual:Iris-setosa\n",
      "predicted:Iris-setosa, actual:Iris-setosa\n",
      "predicted:Iris-versicolor, actual:Iris-versicolor\n",
      "predicted:Iris-versicolor, actual:Iris-versicolor\n",
      "predicted:Iris-versicolor, actual:Iris-versicolor\n",
      "predicted:Iris-versicolor, actual:Iris-versicolor\n",
      "predicted:Iris-virginica, actual:Iris-versicolor\n",
      "predicted:Iris-versicolor, actual:Iris-versicolor\n",
      "predicted:Iris-versicolor, actual:Iris-versicolor\n",
      "predicted:Iris-virginica, actual:Iris-virginica\n",
      "predicted:Iris-virginica, actual:Iris-virginica\n",
      "Accuracy: 92.3076923076923%\n"
     ]
    }
   ],
   "source": [
    "import csv\n",
    "import random\n",
    "import math\n",
    "import operator\n",
    "\n",
    "def euclideanDistance(item1, item2, attributes):\n",
    "    distance = 0\n",
    "    for x in range(attributes):\n",
    "        distance+=(item1[x] - item2[x])**2\n",
    "    return math.sqrt(distance)\n",
    "\n",
    "def getNeighbors(trainingSet, test, k):\n",
    "    distances = []\n",
    "    length = len(test) - 1\n",
    "    for x in range(len(trainingSet)):\n",
    "        dist = euclideanDistance(test, trainingSet[x], length)\n",
    "        distances.append((trainingSet[x], dist))\n",
    "    #sort on the distance, not the datapoint\n",
    "    distances.sort(key = operator.itemgetter(1))\n",
    "    neighbors = []\n",
    "    for x in range(k):\n",
    "        neighbors.append(distances[x][0])\n",
    "    return neighbors\n",
    "    \n",
    "def loadDataset(filename, split, trainingSet, testSet):\n",
    "    with open(filename, 'r') as csvfile:\n",
    "        lines = csv.reader(csvfile)\n",
    "        dataset = list(lines)\n",
    "        for x in range(len(dataset)-1):\n",
    "            #this needs to change in a different dataset            \n",
    "            for y in range(4):\n",
    "                dataset[x][y] = float(dataset[x][y])\n",
    "            if random.random() < split:\n",
    "                trainingSet.append(dataset[x])\n",
    "            else:\n",
    "                testSet.append(dataset[x])\n",
    "                \n",
    "def getResponse(neighbors):\n",
    "    classVotes = {}\n",
    "    for x in range(len(neighbors)):\n",
    "        response = neighbors[x][-1]\n",
    "        if response in classVotes:\n",
    "            classVotes[response]+=1\n",
    "        else:\n",
    "            classVotes[response] = 1\n",
    "    sortedVotes = sorted(classVotes.items(), key = operator.itemgetter(1), reverse = True)\n",
    "    return sortedVotes[0][0]\n",
    "\n",
    "def getAccuracy(testSet, predictions):\n",
    "    correct = 0\n",
    "    for x in range(len(testSet)):\n",
    "        if testSet[x][-1] == predictions[x]:\n",
    "            correct+=1\n",
    "    return(correct/float(len(testSet)))*100.0\n",
    "\n",
    "def kNN():\n",
    "    trainingSet = []\n",
    "    testSet = []\n",
    "    split = 0.9\n",
    "    loadDataset('iris.txt', split, trainingSet, testSet)\n",
    "\n",
    "    predictions = []\n",
    "    k = 3\n",
    "    for x in range(len(testSet)):\n",
    "        neighbors = getNeighbors(trainingSet, testSet[x], k)\n",
    "        result = getResponse(neighbors)\n",
    "        predictions.append(result)\n",
    "        print('predicted:' + result + ', actual:' + testSet[x][-1])\n",
    "    accuracy = getAccuracy(testSet, predictions)\n",
    "    print('Accuracy: ' + str(accuracy) + '%')\n",
    "    \n",
    "kNN()"
   ]
  },
  {
   "cell_type": "code",
   "execution_count": null,
   "metadata": {
    "collapsed": true
   },
   "outputs": [],
   "source": []
  },
  {
   "cell_type": "code",
   "execution_count": null,
   "metadata": {
    "collapsed": true
   },
   "outputs": [],
   "source": []
  },
  {
   "cell_type": "code",
   "execution_count": null,
   "metadata": {
    "collapsed": true
   },
   "outputs": [],
   "source": []
  }
 ],
 "metadata": {
  "kernelspec": {
   "display_name": "Python 3",
   "language": "python",
   "name": "python3"
  },
  "language_info": {
   "codemirror_mode": {
    "name": "ipython",
    "version": 3
   },
   "file_extension": ".py",
   "mimetype": "text/x-python",
   "name": "python",
   "nbconvert_exporter": "python",
   "pygments_lexer": "ipython3",
   "version": "3.5.1"
  }
 },
 "nbformat": 4,
 "nbformat_minor": 0
}
