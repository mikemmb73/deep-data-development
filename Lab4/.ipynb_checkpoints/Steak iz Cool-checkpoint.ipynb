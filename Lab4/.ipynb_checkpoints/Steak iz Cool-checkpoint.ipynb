{
 "cells": [
  {
   "cell_type": "code",
   "execution_count": 1,
   "metadata": {
    "collapsed": false
   },
   "outputs": [
    {
     "name": "stdout",
     "output_type": "stream",
     "text": [
      "AVG RARE: 0.4906832298136646\n",
      "AVG WELL: 0.44401544401544396\n",
      "0.179907283361\n",
      "0.0419895482083\n"
     ]
    },
    {
     "data": {
      "image/png": "[encoded data removed]",
      "text/plain": [
       "<matplotlib.figure.Figure at 0x1099769e8>"
      ]
     },
     "metadata": {},
     "output_type": "display_data"
    }
   ],
   "source": [
    "import csv\n",
    "import statistics\n",
    "import matplotlib.pyplot as plt\n",
    "import scipy.stats as st\n",
    "import random as rand\n",
    "%matplotlib inline\n",
    "    \n",
    "f = open('steak-risk-survey.csv', 'r')\n",
    "csv_f = csv.reader(f)\n",
    "how_risky = []\n",
    "steak_questionmark = []\n",
    "yes_steak_risky = []\n",
    "how_steaky = []\n",
    "lotteries = []\n",
    "skydivers = []\n",
    "gamblers = []\n",
    "cheaters = []\n",
    "speeders = []\n",
    "for row in csv_f :\n",
    "    risks = 0\n",
    "    if(row[1]==\"Lottery B\"):\n",
    "        risks+=1\n",
    "        lotteries.append(1)\n",
    "    else:\n",
    "        lotteries.append(0)\n",
    "    for i in range (2, 8):\n",
    "        if(row[i]==\"Yes\"):\n",
    "            risks+=1\n",
    "            \n",
    "    if(row[5]==\"Yes\"):\n",
    "        skydivers.append(1)\n",
    "    else:\n",
    "        skydivers.append(0)\n",
    "        \n",
    "    if(row[4]==\"Yes\"):\n",
    "        gamblers.append(1)\n",
    "    else:\n",
    "        gamblers.append(0)\n",
    "        \n",
    "    if(row[7] == \"Yes\"):\n",
    "        cheaters.append(1)\n",
    "    else:\n",
    "        cheaters.append(0)\n",
    "        \n",
    "    if(row[6] == \"Yes\"):\n",
    "        speeders.append(1)\n",
    "    else:\n",
    "        speeders.append(0)\n",
    "        \n",
    "        \n",
    "        \n",
    "    \n",
    "\n",
    "    #this is a coefficent of risk.  \n",
    "    #This coefficent is defined the percentage of possible risky activities someone engages in\n",
    "    how_risky.append(risks/7)\n",
    "    \n",
    "    #U LIKE STEAK??????\n",
    "    if(row[8]==\"Yes\"):\n",
    "        steak_questionmark.append(1)\n",
    "        yes_steak_risky.append(risks/7)\n",
    "        if(row[9]==\"Rare\"):\n",
    "            how_steaky.append(4)\n",
    "        elif(row[9]==\"Medium rare\"):\n",
    "            how_steaky.append(3)\n",
    "        elif(row[9]==\"Medium\"):\n",
    "            how_steaky.append(2)\n",
    "        elif(row[9]==\"Medium Well\"):\n",
    "            how_steaky.append(1)\n",
    "        elif(row[9]==\"Well\"):\n",
    "            how_steaky.append(0)\n",
    "    else:\n",
    "        steak_questionmark.append(0)\n",
    "        \n",
    "\n",
    "#remove the first three element (column headers and other unneccesary data)\n",
    "del how_risky[0]\n",
    "del how_risky[0]\n",
    "del how_risky[0]\n",
    "del steak_questionmark[0]\n",
    "del steak_questionmark[0]\n",
    "del steak_questionmark[0]\n",
    "\n",
    "\n",
    "plt.bar(steak_questionmark, how_risky)\n",
    "\n",
    "#calculate averages\n",
    "rare_count = 0\n",
    "well_count = 0\n",
    "rare = 0\n",
    "well = 0\n",
    "for i in range(len(how_steaky)):\n",
    "    if(how_steaky[i] == 4):\n",
    "        rare += yes_steak_risky[i]\n",
    "        rare_count += 1\n",
    "    elif(how_steaky[i] == 1):\n",
    "        well += yes_steak_risky[i]\n",
    "        well_count += 1\n",
    "        \n",
    "print(\"AVG RARE:\",rare/rare_count)\n",
    "print(\"AVG WELL:\",well/well_count)\n",
    "\n",
    "risky_steaks = st.pearsonr(how_risky, steak_questionmark)\n",
    "yes_risky_steaks = st.pearsonr(yes_steak_risky, how_steaky)\n",
    "print(risky_steaks[0])\n",
    "print(yes_risky_steaks[0]) "
   ]
  },
  {
   "cell_type": "code",
   "execution_count": 10,
   "metadata": {
    "collapsed": false,
    "scrolled": true
   },
   "outputs": [
    {
     "data": {
      "text/plain": [
       "<matplotlib.legend.Legend at 0x10a07a6a0>"
      ]
     },
     "execution_count": 10,
     "metadata": {},
     "output_type": "execute_result"
    },
    {
     "data": {
      "image/png": "[encoded data removed]",
      "text/plain": [
       "<matplotlib.figure.Figure at 0x109e7f6a0>"
      ]
     },
     "metadata": {},
     "output_type": "display_data"
    }
   ],
   "source": [
    "plt.hist(skydivers, alpha=0.5, label='skydivers')\n",
    "plt.hist(lotteries, alpha=0.5, label='lottery')\n",
    "plt.xlabel(\"Risky Behavior? (0 = false 1 = true)\")\n",
    "plt.ylabel(\"Number of people\")\n",
    "plt.legend(loc='upper right')\n"
   ]
  },
  {
   "cell_type": "markdown",
   "metadata": {
    "collapsed": false,
    "scrolled": true
   },
   "source": [
    "No correlation here!!"
   ]
  },
  {
   "cell_type": "code",
   "execution_count": 4,
   "metadata": {
    "collapsed": false
   },
   "outputs": [
    {
     "data": {
      "text/plain": [
       "<matplotlib.legend.Legend at 0x10a75e0f0>"
      ]
     },
     "execution_count": 4,
     "metadata": {},
     "output_type": "execute_result"
    },
    {
     "data": {
      "image/png": "[encoded data removed]",
      "text/plain": [
       "<matplotlib.figure.Figure at 0x10a7df240>"
      ]
     },
     "metadata": {},
     "output_type": "display_data"
    }
   ],
   "source": [
    "plt.hist(gamblers, alpha=0.5, label='gamblers')\n",
    "plt.hist(skydivers, alpha=0.5, label='skydivers')\n",
    "plt.xlabel(\"Risky Behavior? (0 = false 1 = true)\")\n",
    "plt.ylabel(\"Number of people\")\n",
    "plt.legend(loc='upper right')"
   ]
  },
  {
   "cell_type": "markdown",
   "metadata": {},
   "source": [
    "Possible reverse correlation"
   ]
  },
  {
   "cell_type": "code",
   "execution_count": null,
   "metadata": {
    "collapsed": true
   },
   "outputs": [],
   "source": []
  }
 ],
 "metadata": {
  "kernelspec": {
   "display_name": "Python 3",
   "language": "python",
   "name": "python3"
  },
  "language_info": {
   "codemirror_mode": {
    "name": "ipython",
    "version": 3
   },
   "file_extension": ".py",
   "mimetype": "text/x-python",
   "name": "python",
   "nbconvert_exporter": "python",
   "pygments_lexer": "ipython3",
   "version": "3.5.1"
  }
 },
 "nbformat": 4,
 "nbformat_minor": 0
}
