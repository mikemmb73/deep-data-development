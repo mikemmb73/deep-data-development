{
 "cells": [
  {
   "cell_type": "code",
   "execution_count": 15,
   "metadata": {
    "collapsed": false
   },
   "outputs": [
    {
     "data": {
      "image/png": "[encoded data removed]",
      "text/plain": [
       "<matplotlib.figure.Figure at 0x10a9be1d0>"
      ]
     },
     "metadata": {},
     "output_type": "display_data"
    }
   ],
   "source": [
    "import numpy as np\n",
    "import matplotlib.pyplot as plt\n",
    "import scipy.stats as st\n",
    "%matplotlib inline\n",
    "#File Reading\n",
    "#Emma Anderson, CS1, 7/2/15\n",
    "#open and save the file for reading\n",
    "cats_file = open(\"catsM.csv\", \"r\");\n",
    "#\n",
    "cats_list = [];\n",
    "#put all lines from the file into a list\n",
    "for ii in cats_file:\n",
    "    cats_list.append(ii);\n",
    "\n",
    "#remove the first element (column header)\n",
    "del cats_list[0];\n",
    "\n",
    "weight_list = []\n",
    "\n",
    "for jj in cats_list:\n",
    "    jj = jj.split(\",\")\n",
    "    weight_list.append(float(jj[2]))\n",
    "\n",
    "plt.hist(weight_list)\n",
    "st.anderson(weight_list)\n",
    "st.probplot(weight_list)\n",
    "plt.show()\n",
    "\n",
    "\n"
   ]
  },
  {
   "cell_type": "code",
   "execution_count": null,
   "metadata": {
    "collapsed": true
   },
   "outputs": [],
   "source": []
  }
 ],
 "metadata": {
  "kernelspec": {
   "display_name": "Python 3",
   "language": "python",
   "name": "python3"
  },
  "language_info": {
   "codemirror_mode": {
    "name": "ipython",
    "version": 3
   },
   "file_extension": ".py",
   "mimetype": "text/x-python",
   "name": "python",
   "nbconvert_exporter": "python",
   "pygments_lexer": "ipython3",
   "version": "3.4.4"
  }
 },
 "nbformat": 4,
 "nbformat_minor": 0
}
