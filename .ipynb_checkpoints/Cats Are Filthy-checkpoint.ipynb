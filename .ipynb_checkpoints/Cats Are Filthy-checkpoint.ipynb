{
 "cells": [
  {
   "cell_type": "code",
   "execution_count": 10,
   "metadata": {
    "collapsed": false
   },
   "outputs": [
    {
     "data": {
      "text/plain": [
       "(array([  3.,   9.,  13.,  15.,  12.,  15.,  11.,  10.,   5.,   4.]),\n",
       " array([ 2.  ,  2.19,  2.38,  2.57,  2.76,  2.95,  3.14,  3.33,  3.52,\n",
       "         3.71,  3.9 ]),\n",
       " <a list of 10 Patch objects>)"
      ]
     },
     "execution_count": 10,
     "metadata": {},
     "output_type": "execute_result"
    },
    {
     "data": {
      "image/png": "[encoded data removed]",
      "text/plain": [
       "<matplotlib.figure.Figure at 0x10989ac18>"
      ]
     },
     "metadata": {},
     "output_type": "display_data"
    }
   ],
   "source": [
    "import numpy as np\n",
    "import matplotlib.pyplot as plt\n",
    "import statistics\n",
    "import scipy.stats as st\n",
    "import random as rand\n",
    "%matplotlib inline\n",
    "\n",
    "data_file = open(\"catsM.csv\", \"r\");\n",
    "\n",
    "#create an empty list to store the data\n",
    "kitty_list = [];\n",
    "#put all lines from the file into a list\n",
    "for ii in data_file:\n",
    "    kitty_list.append(ii);\n",
    "    \n",
    "#remove the first element (column header)\n",
    "del kitty_list[0]\n",
    "    \n",
    "for i in range(0, len(kitty_list)):\n",
    "    kitty_list[i] = kitty_list[i].replace(\"\\n\", \"\");\n",
    "    kitty_list[i] = kitty_list[i].split(\",\")\n",
    "\n",
    "#weights of the cats\n",
    "kitty_fat = []\n",
    "\n",
    "for thisCat in range(len(kitty_list)):\n",
    "    kitty_fat.append(kitty_list[thisCat][2])\n",
    "    \n",
    "for thisFat in range(len(kitty_fat)):\n",
    "    kitty_fat[thisFat] = float(kitty_fat[thisFat])\n",
    "    \n",
    "plt.hist(kitty_fat)\n",
    "\n",
    "\n",
    "\n"
   ]
  },
  {
   "cell_type": "code",
   "execution_count": 6,
   "metadata": {
    "collapsed": false,
    "scrolled": true
   },
   "outputs": [
    {
     "name": "stdout",
     "output_type": "stream",
     "text": [
      "0.1309810583157421\n",
      "SkewtestResult(statistic=0.55954571872006209, pvalue=0.57578933853947944)\n"
     ]
    }
   ],
   "source": [
    "skew = st.skew(kitty_fat)\n",
    "skewtest = st.skewtest(kitty_fat)\n",
    "\n",
    "print(skew)\n",
    "#is slightly skewed\n",
    "print(skewtest)\n",
    "#this is not largely skewed against normality.  P is not low so we can not reject null hypothesis"
   ]
  },
  {
   "cell_type": "code",
   "execution_count": 8,
   "metadata": {
    "collapsed": false,
    "scrolled": true
   },
   "outputs": [
    {
     "name": "stdout",
     "output_type": "stream",
     "text": [
      "(0.9788321852684021, 0.11895745247602463)\n"
     ]
    }
   ],
   "source": [
    "shapiro = st.shapiro(kitty_fat)\n",
    "print(shapiro)\n",
    "#at 97.88%, this is most likely a normal distribution"
   ]
  },
  {
   "cell_type": "code",
   "execution_count": 9,
   "metadata": {
    "collapsed": false
   },
   "outputs": [
    {
     "name": "stdout",
     "output_type": "stream",
     "text": [
      "NormaltestResult(statistic=4.8857866630937874, pvalue=0.086909030696947651)\n"
     ]
    }
   ],
   "source": [
    "normal_test = st.normaltest(kitty_fat)\n",
    "print(normal_test)\n",
    "#technically we still cannot reject the null hypothesis at 0.0869"
   ]
  },
  {
   "cell_type": "markdown",
   "metadata": {},
   "source": [
    "The results of the skewtest and the Shapiro-Wilk test both conclusivly point towards not rejecting the null hypothesis and the dataset being normally distributed.  While the results of the normaltest technically do not include enough evidence to reject the null hypothesis, it is getting closer to the p-value of 5%.  None of the tests have enough information to disprove this dataset from being normal, so we will assume this is correct and the dataset is normal."
   ]
  },
  {
   "cell_type": "code",
   "execution_count": 14,
   "metadata": {
    "collapsed": false,
    "scrolled": true
   },
   "outputs": [
    {
     "name": "stdout",
     "output_type": "stream",
     "text": [
      "Z Score: 1.7773914891848437\n"
     ]
    }
   ],
   "source": [
    "stdev = statistics.stdev(kitty_fat)\n",
    "x_bar = statistics.mean(kitty_fat)\n",
    "randomNormValue = rand.normalvariate(x_bar, stdev)\n",
    "z_score = (randomNormValue - x_bar)/stdev\n",
    "print(\"Z Score:\", z_score)"
   ]
  }
 ],
 "metadata": {
  "kernelspec": {
   "display_name": "Python 3",
   "language": "python",
   "name": "python3"
  },
  "language_info": {
   "codemirror_mode": {
    "name": "ipython",
    "version": 3
   },
   "file_extension": ".py",
   "mimetype": "text/x-python",
   "name": "python",
   "nbconvert_exporter": "python",
   "pygments_lexer": "ipython3",
   "version": "3.5.1"
  }
 },
 "nbformat": 4,
 "nbformat_minor": 0
}
