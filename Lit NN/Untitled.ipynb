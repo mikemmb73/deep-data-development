{
 "cells": [
  {
   "cell_type": "code",
   "execution_count": null,
   "metadata": {
    "collapsed": true
   },
   "outputs": [],
   "source": [
    "import tensorflow as tf\n",
    "\n",
    "#initilization of the regression\n",
    "x = tf.placeholder(tf.float32, [None, 784])\n",
    "#weights\n",
    "W = tf.Variable(tf.zeros([784, 10]))\n",
    "#bias'\n",
    "b = tf.Variable(tf.zeros([10]))\n",
    "\n",
    "#implement the softmax regression model \n",
    "y = tf.nn.softmax(tf.matmul(x, W) + b)\n",
    "\n",
    "#training section\n",
    "\n",
    "#implement cross-entropy (our cost function).  This defines how the model should be trained\n",
    "y_ = tf.placeholder(tf.float32, [None, 10])\n",
    "\n",
    "cross_entropy = tf.reduce_mean(-tf.reduce_sum(y_ * tf.log(y), reduction_indices=[1]))\n",
    "\n",
    "#train the model\n",
    "train_step = tf.train.GradientDescentOptimizer(0.5).minimize(cross_entropy)\n",
    "#save the model\n",
    "saver = tf.train.Saver()\n",
    "#initilize the variables\n",
    "init = tf.initialize_all_variables()\n",
    "\n",
    "#launch the model\n",
    "sess = tf.Session()\n",
    "sess.run(init)\n",
    "\n",
    "#train 1000 times\n",
    "for i in range(1000):\n",
    "    batch_xs, batch_ys = mnist.train.next_batch(100)\n",
    "    sess.run(train_step, feed_dict={x: batch_xs, y_: batch_ys})"
   ]
  }
 ],
 "metadata": {
  "kernelspec": {
   "display_name": "Python 3",
   "language": "python",
   "name": "python3"
  },
  "language_info": {
   "codemirror_mode": {
    "name": "ipython",
    "version": 3
   },
   "file_extension": ".py",
   "mimetype": "text/x-python",
   "name": "python",
   "nbconvert_exporter": "python",
   "pygments_lexer": "ipython3",
   "version": "3.5.1"
  }
 },
 "nbformat": 4,
 "nbformat_minor": 0
}
