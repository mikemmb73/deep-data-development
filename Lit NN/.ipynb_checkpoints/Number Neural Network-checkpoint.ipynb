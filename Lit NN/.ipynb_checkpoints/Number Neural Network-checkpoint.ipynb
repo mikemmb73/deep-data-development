{
 "cells": [
  {
   "cell_type": "code",
   "execution_count": 101,
   "metadata": {
    "collapsed": true
   },
   "outputs": [],
   "source": [
    "import tensorflow as tf\n",
    "import sys\n",
    "from PIL import Image, ImageFilter"
   ]
  },
  {
   "cell_type": "code",
   "execution_count": 87,
   "metadata": {
    "collapsed": true
   },
   "outputs": [],
   "source": [
    "#function to prepare an image for learning\n",
    "def prepare_image(image_file):\n",
    "    #make the image black and white\n",
    "    bw_image = Image.open(image_file).convert('L')\n",
    "    #get width and height of the image\n",
    "    width = float(bw_image.size[0])\n",
    "    height = float(bw_image.size[1])\n",
    "    \n",
    "    #create a new black and white image that is the same size as the dataset\n",
    "    newImage = Image.new('L', (28, 28), (255))\n",
    "        \n",
    "    if width > height: #check which dimension is bigger\n",
    "        #Width is bigger. Width becomes 20 pixels.\n",
    "        nheight = int(round((20.0/width*height),0)) #resize height according to ratio width\n",
    "        if (nheigth == 0): #rare case but minimum is 1 pixel\n",
    "            nheigth = 1  \n",
    "        # resize and sharpen\n",
    "        img = bw_image.resize((20,nheight), Image.ANTIALIAS).filter(ImageFilter.SHARPEN)\n",
    "        wtop = int(round(((28 - nheight)/2),0)) #caculate horizontal pozition\n",
    "        newImage.paste(img, (4, wtop)) #paste resized image on white canvas\n",
    "    else:\n",
    "        #Height is bigger. Heigth becomes 20 pixels. \n",
    "        nwidth = int(round((20.0/height*width),0)) #resize width according to ratio height\n",
    "        if (nwidth == 0): #rare case but minimum is 1 pixel\n",
    "            nwidth = 1\n",
    "        # resize and sharpen\n",
    "        img = bw_image.resize((nwidth,20), Image.ANTIALIAS).filter(ImageFilter.SHARPEN)\n",
    "        wleft = int(round(((28 - nwidth)/2),0)) #caculate vertical pozition\n",
    "        newImage.paste(img, (wleft, 4)) #paste resized image on white canvas\n",
    "    \n",
    "    pixels = list(newImage.getdata()) #get pixel values\n",
    "\n",
    "    \n",
    "    #make the pixels either black or white, not inbetween\n",
    "    real_pixels = [ (255-x)*1.0/255.0 for x in pixels] \n",
    "    return real_pixels"
   ]
  },
  {
   "cell_type": "code",
   "execution_count": 102,
   "metadata": {
    "collapsed": false
   },
   "outputs": [
    {
     "name": "stdout",
     "output_type": "stream",
     "text": [
      "Extracting MNIST_data/train-images-idx3-ubyte.gz\n",
      "Extracting MNIST_data/train-labels-idx1-ubyte.gz\n",
      "Extracting MNIST_data/t10k-images-idx3-ubyte.gz\n",
      "Extracting MNIST_data/t10k-labels-idx1-ubyte.gz\n"
     ]
    }
   ],
   "source": [
    "#the majority of this Nueral Network initilization code is taken from\n",
    "#tensorflow.org data implementation tutorial\n",
    "\n",
    "#download the dataset\n",
    "from tensorflow.examples.tutorials.mnist import input_data\n",
    "mnist = input_data.read_data_sets(\"MNIST_data/\", one_hot=True)\n",
    "\n",
    "#initilization of the regression\n",
    "x = tf.placeholder(tf.float32, [None, 784])\n",
    "#weights\n",
    "W = tf.Variable(tf.zeros([784, 10]))\n",
    "#bias'\n",
    "b = tf.Variable(tf.zeros([10]))\n",
    "\n",
    "#implement the softmax regression model \n",
    "y = tf.nn.softmax(tf.matmul(x, W) + b)\n",
    "\n",
    "#training section\n",
    "#implement cross-entropy (our cost function).  This defines how the model should be trained\n",
    "y_ = tf.placeholder(tf.float32, [None, 10])\n",
    "cross_entropy = tf.reduce_mean(-tf.reduce_sum(y_ * tf.log(y), reduction_indices=[1]))\n",
    "#train the model\n",
    "train_step = tf.train.GradientDescentOptimizer(0.5).minimize(cross_entropy)\n",
    "#save the model\n",
    "saver = tf.train.Saver()\n",
    "#initilize the variables\n",
    "init = tf.initialize_all_variables()\n",
    "\n",
    "#launch the model\n",
    "sess = tf.Session()\n",
    "sess.run(init)\n",
    "\n",
    "#train 1000 times\n",
    "for i in range(1000):\n",
    "    batch_xs, batch_ys = mnist.train.next_batch(100)\n",
    "    sess.run(train_step, feed_dict={x: batch_xs, y_: batch_ys})"
   ]
  },
  {
   "cell_type": "code",
   "execution_count": 103,
   "metadata": {
    "collapsed": false
   },
   "outputs": [
    {
     "name": "stdout",
     "output_type": "stream",
     "text": [
      "0.9193\n"
     ]
    }
   ],
   "source": [
    "#confirm the accuracy of the model\n",
    "correct_prediction = tf.equal(tf.argmax(y,1), tf.argmax(y_,1))\n",
    "accuracy = tf.reduce_mean(tf.cast(correct_prediction, tf.float32))\n",
    "print(sess.run(accuracy, feed_dict={x: mnist.test.images, y_: mnist.test.labels}))"
   ]
  },
  {
   "cell_type": "code",
   "execution_count": 104,
   "metadata": {
    "collapsed": false
   },
   "outputs": [],
   "source": [
    "#now that we have confirmed the model is functioning correctly, lets save it to a file\n",
    "save_path = saver.save(sess, \"model.ckpt\")"
   ]
  },
  {
   "cell_type": "code",
   "execution_count": 105,
   "metadata": {
    "collapsed": true
   },
   "outputs": [],
   "source": [
    "def predict_int(pixels):\n",
    "    with tf.Session() as sess:\n",
    "        sess.run(init)\n",
    "        saver.restore(sess, \"model.ckpt\")\n",
    "        \n",
    "        #get the prediction\n",
    "        prediction=tf.argmax(y,1)\n",
    "        #return the predicted value\n",
    "        return prediction.eval(feed_dict={x: [pixels]}, session=sess)\n"
   ]
  },
  {
   "cell_type": "code",
   "execution_count": 106,
   "metadata": {
    "collapsed": false
   },
   "outputs": [
    {
     "name": "stdout",
     "output_type": "stream",
     "text": [
      "[5]\n"
     ]
    }
   ],
   "source": [
    "pixels = prepare_image(\"images.png\")\n",
    "print(predict_int(pixels))"
   ]
  },
  {
   "cell_type": "code",
   "execution_count": null,
   "metadata": {
    "collapsed": true
   },
   "outputs": [],
   "source": []
  }
 ],
 "metadata": {
  "kernelspec": {
   "display_name": "Python 3",
   "language": "python",
   "name": "python3"
  },
  "language_info": {
   "codemirror_mode": {
    "name": "ipython",
    "version": 3
   },
   "file_extension": ".py",
   "mimetype": "text/x-python",
   "name": "python",
   "nbconvert_exporter": "python",
   "pygments_lexer": "ipython3",
   "version": "3.5.1"
  }
 },
 "nbformat": 4,
 "nbformat_minor": 0
}
