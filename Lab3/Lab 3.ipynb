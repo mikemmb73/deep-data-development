{
 "cells": [
  {
   "cell_type": "markdown",
   "metadata": {},
   "source": [
    "## Correlation Between International and Domestic Gross and Passing the Bechdel Test"
   ]
  },
  {
   "cell_type": "markdown",
   "metadata": {},
   "source": [
    "This lab explores the correation between the overall gross of movies and wether or not they pass the Bechdel Test.  This correlation is explored by calculating average gross for passing movies and failing movies, along with calculating pearson r correlation coefficents for these variables.  This data is then divided into the reason for pass / fail, and these same values are again calculated.  This creates a more in-depth exploration into this correaltion, and which, if any, factors affect the correlation."
   ]
  },
  {
   "cell_type": "code",
   "execution_count": null,
   "metadata": {
    "collapsed": true
   },
   "outputs": [],
   "source": [
    "# -*- coding: utf-8 -*-\n",
    "\"\"\"\n",
    "Created on Tue Feb 23 13:55:19 2016\n",
    "\n",
    "@author: mikebaldwin\n",
    "\"\"\"\n",
    "\n",
    "import csv\n",
    "import statistics\n",
    "import matplotlib.pyplot as plt\n",
    "import scipy.stats as st\n",
    "import random as rand\n",
    "%matplotlib inline\n",
    "\n",
    "with open('movies.csv', 'r') as f:\n",
    "    reader = csv.reader(f)\n",
    "    your_list = list(reader)\n",
    "    \n",
    "f = open('movies.csv', 'r')\n",
    "failures = []\n",
    "failures_binary_list = []\n",
    "money = []\n",
    "money_fail = []\n",
    "money_pass = []\n",
    "csv_f = csv.reader(f)\n",
    "for row in csv_f :\n",
    "    thisFail = row[5]\n",
    "    if(row[11]!=\"domgross_2013$\" and row[12]!=\"intgross_2013$\"):\n",
    "            thisMoney = int(row[11])+int(row[12])\n",
    "     \n",
    "            \n",
    "            failures.append(thisFail)\n",
    "            money.append(thisMoney)\n",
    "            if(thisFail == \"FAIL\"):\n",
    "                money_fail.append(thisMoney)\n",
    "                failures_binary_list.append(0)\n",
    "            elif(thisFail == \"PASS\"):\n",
    "                money_pass.append(thisMoney)\n",
    "                failures_binary_list.append(1)\n",
    "            \n",
    "    \n",
    "\n",
    "## get some averages\n",
    "\n",
    "fail_money = statistics.mean(money_fail)\n",
    "pass_money = statistics.mean(money_pass)\n",
    "print(\"Mean income from movies that fail the test: $\",fail_money)\n",
    "print(\"Mean income from movies that pass the test: $\",pass_money)\n"
   ]
  },
  {
   "cell_type": "markdown",
   "metadata": {},
   "source": [
    "Observing the income of movies which pass and fail the Bechdel Test, it appears that movies which fail the Bechdel Test gross an average of $83,221,100 more combined domestically and internationally.  However, before accepting this data, it is important to confirm the correaltion between the two variables. "
   ]
  },
  {
   "cell_type": "code",
   "execution_count": 35,
   "metadata": {
    "collapsed": false,
    "scrolled": true
   },
   "outputs": [
    {
     "name": "stdout",
     "output_type": "stream",
     "text": [
      "The correlation between gross income and if the movie passed or failed is -0.102591387646\n"
     ]
    },
    {
     "data": {
      "text/plain": [
       "<matplotlib.text.Text at 0x109949ac8>"
      ]
     },
     "execution_count": 35,
     "metadata": {},
     "output_type": "execute_result"
    },
    {
     "data": {
      "image/png": "[encoded data removed]",
      "text/plain": [
       "<matplotlib.figure.Figure at 0x109ab5240>"
      ]
     },
     "metadata": {},
     "output_type": "display_data"
    }
   ],
   "source": [
    "##get some correlations\n",
    "\n",
    "#correlation between money and if the movie passed or failed (binary)\n",
    "pearson = st.pearsonr(failures_binary_list, money)\n",
    "plt.scatter(failures_binary_list, money)\n",
    "print(\"The correlation between gross income and if the movie passed or failed is\", pearson[0])\n",
    "plt.xlabel(\"Pass or Fail (1 = pass, 0 = fail)\")\n",
    "plt.ylabel(\"Domestic and International Gross (billions)\")\n"
   ]
  },
  {
   "cell_type": "markdown",
   "metadata": {
    "collapsed": true
   },
   "source": [
    "Observing the correlation coefficent, and the scatterplot of gross income and pass/fail of the test, the data supports the conclusion that there is little to no correaltion betweenn gross income and passing or failing the Bechdel Test.  As seen in the scatterplot, there are movies of all gross incomes which pass the Bechdel Test, and there are movies of all gross incomes which fail the Bechdel Test.  The correaltion coefficent points towards there being little correlation between gross and passage of the Bechdel Test.\n",
    "\n",
    "To confirm this conclusion, we will look at this same problem, but with all outputs taken (pass, men, notalk, nowomen)"
   ]
  },
  {
   "cell_type": "code",
   "execution_count": 27,
   "metadata": {
    "collapsed": false,
    "scrolled": true
   },
   "outputs": [
    {
     "name": "stdout",
     "output_type": "stream",
     "text": [
      "Mean income from movies that recieve 'ok': $ 247728389.0352645\n",
      "Mean income from movies that recieve 'men': $ 287950320.02072537\n",
      "    Difference from ok: million $ 40.2219\n",
      "Mean income from movies that recieve 'notalk': $ 355660038.08235294\n",
      "    Difference from ok: million $ 107.9316\n",
      "Mean income from movies that recieve 'nowomen': $ 306738676.1956522\n",
      "    Difference from ok: million $ 59.0103\n"
     ]
    },
    {
     "data": {
      "image/png": "[encoded data removed]",
      "text/plain": [
       "<matplotlib.figure.Figure at 0x1098a80f0>"
      ]
     },
     "metadata": {},
     "output_type": "display_data"
    }
   ],
   "source": [
    "f = open('movies.csv', 'r')\n",
    "\n",
    "#money per category\n",
    "ok_money = []\n",
    "men_money = []\n",
    "notalk_money = []\n",
    "nowomen_money = []\n",
    "#overall money\n",
    "money = []\n",
    "#if the moive passed or failed\n",
    "failures_binary = []\n",
    "\n",
    "\n",
    "\n",
    "#disagreement correlation\n",
    "disagree = []\n",
    "disagree_money = []\n",
    "agree_money = []\n",
    "\n",
    "\n",
    "csv_f = csv.reader(f)\n",
    "for row in csv_f :\n",
    "    thisFail = row[4]\n",
    "    thisDisagree = row[3]\n",
    "    if(row[11]!=\"domgross_2013$\" and row[12]!=\"intgross_2013$\"):\n",
    "            thisMoney = int(row[11])+int(row[12])\n",
    "            #do not consider dubious ratings, this data is too hard interpert and not conclusive\n",
    "            if \"dubious\" not in thisFail:\n",
    "                if \"disagree\" not in thisDisagree:\n",
    "                    disagree.append(0)\n",
    "                    agree_money.append(thisMoney)\n",
    "                else:\n",
    "                    disagree.append(1)\n",
    "                    disagree_money.append(thisMoney)\n",
    "\n",
    "    \n",
    "            if(thisFail == \"ok\"):\n",
    "                money.append(thisMoney)\n",
    "                ok_money.append(thisMoney)\n",
    "                failures_binary.append(0)\n",
    "            elif(thisFail == \"men\"):\n",
    "                money.append(thisMoney)\n",
    "                men_money.append(thisMoney)\n",
    "                failures_binary.append(1)\n",
    "            elif(thisFail == \"notalk\"):\n",
    "                money.append(thisMoney)\n",
    "                notalk_money.append(thisMoney)\n",
    "                failures_binary.append(2)\n",
    "            elif(thisFail == \"nowomen\"):\n",
    "                money.append(thisMoney)\n",
    "                nowomen_money.append(thisMoney)\n",
    "                failures_binary.append(3)\n",
    "      \n",
    "# plot what type of test result was given, and the movie's gross income\n",
    "plt.scatter(failures_binary, money)\n",
    "plt.xlabel(\"Failure type (0 = pass, 1 = men, 2 = notalk, 3 = nowomen)\")\n",
    "plt.ylabel(\"Domestic and International Gross (billions)\")\n",
    "\n",
    "#calculate averages\n",
    "print(\"Mean income from movies that recieve 'ok': $\",statistics.mean(ok_money))\n",
    "print(\"Mean income from movies that recieve 'men': $\",statistics.mean(men_money))\n",
    "print(\"    Difference from ok: million $\", round(abs(statistics.mean(ok_money) - statistics.mean(men_money))/1000000, 4))\n",
    "print(\"Mean income from movies that recieve 'notalk': $\",statistics.mean(notalk_money))\n",
    "print(\"    Difference from ok: million $\", round(abs(statistics.mean(ok_money) - statistics.mean(notalk_money))/1000000, 4))\n",
    "print(\"Mean income from movies that recieve 'nowomen': $\",statistics.mean(nowomen_money))\n",
    "print(\"    Difference from ok: million $\", round(abs(statistics.mean(ok_money) - statistics.mean(nowomen_money))/1000000, 4))"
   ]
  },
  {
   "cell_type": "markdown",
   "metadata": {
    "collapsed": true
   },
   "source": [
    "From this data we can see that movies that fail the Bechdel Test actually have a higher overall gross than movies that pass, with the highest grossing movies on average being movies where there are female characters that do not have speaking lines, which make on average $107 million dollars more than the average movie that pass the Bechdel Test.  This appears to show that movies that fail the test make more money than movies that pass.  This leads me to conclude that pearson r of binary passing and failing is a bad indicator between the correlation between gross and passing or failing the Bechdel Test."
   ]
  },
  {
   "cell_type": "markdown",
   "metadata": {},
   "source": [
    "Next we will observe if disagreement on the rating of the movie has any correlation to domestic and international gross"
   ]
  },
  {
   "cell_type": "code",
   "execution_count": 32,
   "metadata": {
    "collapsed": false
   },
   "outputs": [
    {
     "name": "stdout",
     "output_type": "stream",
     "text": [
      "Average gross for movies where judgement is debated: $ 454982504.6831956\n",
      "Average gross for movies where judgement is agreed: $ 244362154.2413522\n",
      "Correaltion between gross and if the judgement is disagreed upon: 0.219072516438\n"
     ]
    }
   ],
   "source": [
    "#calc means\n",
    "disagree_avg = statistics.mean(disagree_money)\n",
    "agree_avg = statistics.mean(agree_money)\n",
    "\n",
    "print(\"Average gross for movies where judgement is debated: $\", disagree_avg)\n",
    "print(\"Average gross for movies where judgement is agreed: $\", agree_avg)\n",
    "\n",
    "#calc correaltion between disagreeing and making money\n",
    "pearson_disagree = st.pearsonr(disagree, money)\n",
    "print(\"Correaltion between gross and if the judgement is disagreed upon:\", pearson_disagree[0])\n"
   ]
  },
  {
   "cell_type": "markdown",
   "metadata": {},
   "source": [
    "This shows that there is a possible correlation between if the judgement is debated or not, and the gross of the movie. Movies that are debated seem to make almost double the gross as movies that are agreed upon.  While the Pearson Correlation Coefficent of this data is not signifagent, there is a slight correlation of around 0.22, which is somewhat correlated.\n",
    "\n",
    "This may be because movies that have a higher gross are seen by more people, and therefore will get more ratings in the Bechdel Test database.  This means there is a higher chance a user may disagree with an opinon in a larger sample, leading to an increased amount of disagreement on movies with a higher gross. "
   ]
  },
  {
   "cell_type": "markdown",
   "metadata": {},
   "source": [
    "One way to test this correlation is to look at the ratings of the top grossing movies from the dataset, and to see what percentage of these movies passed the Bechdel Test"
   ]
  },
  {
   "cell_type": "code",
   "execution_count": 45,
   "metadata": {
    "collapsed": false,
    "scrolled": true
   },
   "outputs": [
    {
     "name": "stdout",
     "output_type": "stream",
     "text": [
      "Percent of movies in top 300 grossing that pass the Bechdel Test: % 37.6\n"
     ]
    }
   ],
   "source": [
    "#get the indexes of the top 100 grossing movies so we can see if they pass or fail\n",
    "top_300_index = sorted(range(len(money)), key=lambda i: money[i])[-500:]\n",
    "\n",
    "pass_movies = []\n",
    "fail_movies = []\n",
    "\n",
    "for i in range(len(top_300_index)):\n",
    "    if(failures_binary_list[top_300_index[i]] == 0):\n",
    "        fail_movies.append(money[top_300_index[i]])\n",
    "    elif(failures_binary_list[top_300_index[i]] == 1):\n",
    "        pass_movies.append(money[top_300_index[i]])\n",
    "        \n",
    "#count number of passing and failing movies\n",
    "passed = len(pass_movies)\n",
    "failed = len(fail_movies)\n",
    "\n",
    "print(\"Percent of movies in top 300 grossing that pass the Bechdel Test: %\", passed/5)\n"
   ]
  },
  {
   "cell_type": "markdown",
   "metadata": {},
   "source": [
    "This percentage leads me to believe that there is a correlation between gross and passing the Bechdel Test.  Movies that fail the Bechdel Test seem to have a higher gross overall, with movies that pass the test making less money."
   ]
  },
  {
   "cell_type": "markdown",
   "metadata": {},
   "source": [
    "## Conclusion"
   ]
  },
  {
   "cell_type": "markdown",
   "metadata": {},
   "source": [
    "From this exploration, it can be stated that there is evidence to support a correlation between a movie failing the Bechdel Test, and having a higher overall gross.  This same conclusion can be found for every reason for failure, with movies where women talk only about men having the largest difference, at over $107 million dollars higher average gross.  While pearson r correlation coefficents do not show statistically signifagent results, they do show slight correlaions in most categories.  This slight correlation provides insight to an underlying correlation hidden deep between the two variables.\n",
    "\n",
    "The exploration of disagreement correaltion to gross provides a view to possible lurking variables behind our data.  Movies that have disagreement on their test results show near doubled average grossing over movies where the test result is confirmed.\n",
    "\n",
    "In order to further confirm the results that there is indeed correlation between gross and Bechdel Test results, the percentage of movies in the top 300 grossing movies that passed the test were examined.  In calculations, it was determined that only 37% of movies in these top 300 passed the test, providing further evidence that the Bechdel Test may be correlated to the overall gross of a movie.\n",
    "\n",
    "In conclusion, there is evidence that supports a correlation between gross of a movie and if it passes the Bechdel Test.  Looking at the data collected, we can conclude that their is most likely a correlation between an increased gross and failure of the Bechdel Test.  This conclusion remains true through multiple tests, with evidence in tests observing why the movie failed, and observing the amount of the top 300 grossing movies which fail the Bechdel Test.  From this information I found that this conclusion is most likely true, based on the tests I preformed."
   ]
  },
  {
   "cell_type": "code",
   "execution_count": null,
   "metadata": {
    "collapsed": true
   },
   "outputs": [],
   "source": []
  }
 ],
 "metadata": {
  "kernelspec": {
   "display_name": "Python 3",
   "language": "python",
   "name": "python3"
  },
  "language_info": {
   "codemirror_mode": {
    "name": "ipython",
    "version": 3
   },
   "file_extension": ".py",
   "mimetype": "text/x-python",
   "name": "python",
   "nbconvert_exporter": "python",
   "pygments_lexer": "ipython3",
   "version": "3.5.1"
  }
 },
 "nbformat": 4,
 "nbformat_minor": 0
}
